{
 "cells": [
  {
   "cell_type": "code",
   "execution_count": 1,
   "id": "6e486f6d",
   "metadata": {},
   "outputs": [],
   "source": [
    "import requests"
   ]
  },
  {
   "cell_type": "code",
   "execution_count": 2,
   "id": "5df2aa06",
   "metadata": {},
   "outputs": [],
   "source": [
    "from selenium import webdriver\n",
    "from selenium.webdriver.common.keys import Keys"
   ]
  },
  {
   "cell_type": "code",
   "execution_count": 3,
   "id": "6162d992",
   "metadata": {},
   "outputs": [],
   "source": [
    "driver = webdriver.Chrome(executable_path='C:\\\\Users\\\\Igwe\\\\Downloads\\\\chromedriver_win32\\\\chromedriver.exe')"
   ]
  },
  {
   "cell_type": "code",
   "execution_count": 4,
   "id": "f0f993eb",
   "metadata": {},
   "outputs": [],
   "source": [
    "base_url = 'https://www.konga.com/category/men-s-shoes-1527?page='\n",
    "driver.get(base_url)"
   ]
  },
  {
   "cell_type": "code",
   "execution_count": 5,
   "id": "168fe12e",
   "metadata": {},
   "outputs": [],
   "source": [
    "from bs4 import BeautifulSoup as bs "
   ]
  },
  {
   "cell_type": "code",
   "execution_count": 6,
   "id": "75ac6d96",
   "metadata": {},
   "outputs": [],
   "source": [
    "html = driver.page_source\n",
    "soup = bs(html,'lxml')"
   ]
  },
  {
   "cell_type": "code",
   "execution_count": 7,
   "id": "49563343",
   "metadata": {},
   "outputs": [],
   "source": [
    "fullData = soup.find('section',{'class':'_588b5_3MtNs'})"
   ]
  },
  {
   "cell_type": "code",
   "execution_count": 8,
   "id": "4b56636a",
   "metadata": {},
   "outputs": [],
   "source": [
    "detailData = fullData.find_all('li',{'class':'bbe45_3oExY _22339_3gQb9'})"
   ]
  },
  {
   "cell_type": "code",
   "execution_count": 9,
   "id": "3901d1e2",
   "metadata": {},
   "outputs": [],
   "source": [
    "len(detailData)"
   ]
  },
  {
   "cell_type": "code",
   "execution_count": 10,
   "id": "23952a15",
   "metadata": {},
   "outputs": [],
   "source": [
    "ShoeData = []\n",
    "for i in range(len(detailData)):\n",
    "    ShoeName = detailData[i].find('h3').text\n",
    "    try:\n",
    "        ActualPrice = detailData[i].find('span',{'class':'f6eb3_1MyTu'}).text.lstrip('₦').replace(',','')\n",
    "    except:\n",
    "        ActualPrice = 'na'\n",
    "    \n",
    "    try:\n",
    "        DiscountPrice = detailData[i].find('span',{'class':'d7c0f_sJAqi'}).text.lstrip('₦').replace(',','')\n",
    "    except:\n",
    "         DiscountPrice = 'na'\n",
    "    SoldBy = detailData[i].find('span',{'class':'_7cc7b_23GsY'}).text\n",
    "    ShoeData.append([ShoeName, ActualPrice, DiscountPrice, SoldBy ])"
   ]
  },
  {
   "cell_type": "code",
   "execution_count": 11,
   "id": "75f85e26",
   "metadata": {},
   "outputs": [],
   "source": [
    "type(ActualPrice)"
   ]
  },
  {
   "cell_type": "code",
   "execution_count": 12,
   "id": "6b46ac5b",
   "metadata": {},
   "outputs": [],
   "source": [
    "type( DiscountPrice)"
   ]
  },
  {
   "cell_type": "code",
   "execution_count": 13,
   "id": "0a1a5726",
   "metadata": {},
   "outputs": [],
   "source": [
    "ShoeData"
   ]
  },
  {
   "cell_type": "code",
   "execution_count": 14,
   "id": "da0dd11e",
   "metadata": {},
   "outputs": [],
   "source": [
    "import pandas as pd"
   ]
  },
  {
   "cell_type": "code",
   "execution_count": 15,
   "id": "2f2d62c5",
   "metadata": {},
   "outputs": [],
   "source": [
    "ShoeData_df = pd.DataFrame(columns=['ShoeName','ActualPrice','DiscountPrice','SoldBy'], data = ShoeData)"
   ]
  },
  {
   "cell_type": "code",
   "execution_count": 16,
   "id": "8de4131f",
   "metadata": {},
   "outputs": [],
   "source": [
    "ShoeData_df"
   ]
  },
  {
   "cell_type": "code",
   "execution_count": 17,
   "id": "01e72cd9",
   "metadata": {},
   "outputs": [],
   "source": [
    "ShoeData_df.head()"
   ]
  },
  {
   "cell_type": "code",
   "execution_count": 18,
   "id": "354bad30",
   "metadata": {},
   "outputs": [],
   "source": [
    "ShoeData_df.tail()"
   ]
  },
  {
   "cell_type": "code",
   "execution_count": 19,
   "id": "bd4bdb0b",
   "metadata": {},
   "outputs": [],
   "source": [
    "ShoeData_df.to_csv('SHOEDATA OF PAGE1.csv',index = None)"
   ]
  },
  {
   "cell_type": "code",
   "execution_count": 20,
   "id": "b734e3f0",
   "metadata": {},
   "outputs": [],
   "source": [
    "SHOEDATA = pd.read_csv(\"SHOEDATA OF PAGE1.csv\")"
   ]
  },
  {
   "cell_type": "code",
   "execution_count": 21,
   "id": "a3b2e718",
   "metadata": {},
   "outputs": [],
   "source": [
    "SHOEDATA['ActualPrice'] = SHOEDATA['ActualPrice'].replace('na',0)"
   ]
  },
  {
   "cell_type": "code",
   "execution_count": 22,
   "id": "3cfc4ce9",
   "metadata": {},
   "outputs": [],
   "source": [
    "SHOEDATA"
   ]
  },
  {
   "cell_type": "code",
   "execution_count": 23,
   "id": "aeaa53a8",
   "metadata": {},
   "outputs": [],
   "source": [
    "pip install numpy "
   ]
  },
  {
   "cell_type": "code",
   "execution_count": 24,
   "id": "98a6975a",
   "metadata": {},
   "outputs": [],
   "source": [
    "import numpy as np"
   ]
  },
  {
   "cell_type": "code",
   "execution_count": 25,
   "id": "d2cd5197",
   "metadata": {},
   "outputs": [],
   "source": [
    "SHOEDATA['ActualPrice'] =SHOEDATA['ActualPrice'].astype(int)"
   ]
  },
  {
   "cell_type": "code",
   "execution_count": 26,
   "id": "678aede3",
   "metadata": {},
   "outputs": [],
   "source": [
    "SHOEDATA['DiscountPrice'] =SHOEDATA['DiscountPrice'].astype(int)"
   ]
  },
  {
   "cell_type": "code",
   "execution_count": 27,
   "id": "584542ec",
   "metadata": {},
   "outputs": [],
   "source": [
    "SHOEDATA"
   ]
  },
  {
   "cell_type": "code",
   "execution_count": 28,
   "id": "d1cb2e9e",
   "metadata": {},
   "outputs": [],
   "source": [
    "SHOEDATA.corr()"
   ]
  },
  {
   "cell_type": "code",
   "execution_count": 29,
   "id": "74f4603c",
   "metadata": {},
   "outputs": [],
   "source": [
    "SHOEDATA.info()"
   ]
  },
  {
   "cell_type": "code",
   "execution_count": 30,
   "id": "ca929f59",
   "metadata": {},
   "outputs": [],
   "source": [
    "SHOEDATA['ActualPrice'].value_counts()"
   ]
  },
  {
   "cell_type": "code",
   "execution_count": 31,
   "id": "f620eb72",
   "metadata": {},
   "outputs": [],
   "source": [
    "SHOEDATA['DiscountPrice'].value_counts()"
   ]
  },
  {
   "cell_type": "code",
   "execution_count": 32,
   "id": "5d676bbe",
   "metadata": {},
   "outputs": [],
   "source": [
    "SHOEDATA.agg(\n",
    "     {\n",
    "            \"ActualPrice\": [\"min\", \"max\", \"median\", \"skew\"],\n",
    "            \"DiscountPrice\": [\"min\", \"max\", \"median\", \"mean\"],\n",
    "       }\n",
    "   )"
   ]
  },
  {
   "cell_type": "code",
   "execution_count": 33,
   "id": "37280b20",
   "metadata": {},
   "outputs": [],
   "source": [
    "SHOEDATA[[\"DiscountPrice\", \"ActualPrice\"]].describe()"
   ]
  },
  {
   "cell_type": "code",
   "execution_count": 34,
   "id": "c56f9f7c",
   "metadata": {},
   "outputs": [],
   "source": [
    "pip install matplotlib"
   ]
  },
  {
   "cell_type": "code",
   "execution_count": 35,
   "id": "277f891a",
   "metadata": {},
   "outputs": [],
   "source": [
    "%matplotlib inline"
   ]
  },
  {
   "cell_type": "code",
   "execution_count": 36,
   "id": "a8930749",
   "metadata": {},
   "outputs": [],
   "source": [
    "SHOEDATA[[\"DiscountPrice\", \"ActualPrice\"]].describe().hist()"
   ]
  },
  {
   "cell_type": "code",
   "execution_count": 37,
   "id": "f7f2ec97",
   "metadata": {},
   "outputs": [],
   "source": [
    "SHOEDATA[[\"DiscountPrice\", \"ActualPrice\"]].describe().hist()\n",
    "\n",
    "plt.tight_layout()"
   ]
  },
  {
   "cell_type": "code",
   "execution_count": 38,
   "id": "24091852",
   "metadata": {},
   "outputs": [],
   "source": [
    "SHOEDATA[[\"DiscountPrice\", \"ActualPrice\"]].describe().hist()\n",
    "\n",
    "SHOEDATA[[\"DiscountPrice\", \"ActualPrice\"]].describe().hist().tight_layout()"
   ]
  },
  {
   "cell_type": "code",
   "execution_count": 39,
   "id": "a001cb90",
   "metadata": {},
   "outputs": [],
   "source": [
    "SHOEDATA[[\"DiscountPrice\", \"ActualPrice\"]].describe().hist()"
   ]
  },
  {
   "cell_type": "code",
   "execution_count": 40,
   "id": "7238b9a4",
   "metadata": {},
   "outputs": [],
   "source": [
    "SHOEDATA_AGG = SHOEDATA.agg(\n",
    "     {\n",
    "            \"ActualPrice\": [\"min\", \"max\", \"median\", \"skew\"],\n",
    "            \"DiscountPrice\": [\"min\", \"max\", \"median\", \"mean\"],\n",
    "       }\n",
    "   )"
   ]
  },
  {
   "cell_type": "code",
   "execution_count": 41,
   "id": "1a2be581",
   "metadata": {},
   "outputs": [],
   "source": [
    "SHOEDATA_AGG"
   ]
  },
  {
   "cell_type": "code",
   "execution_count": 42,
   "id": "1285774a",
   "metadata": {},
   "outputs": [],
   "source": [
    "SHOEDATA_AGG.hist()"
   ]
  },
  {
   "cell_type": "code",
   "execution_count": 43,
   "id": "0825b43d",
   "metadata": {},
   "outputs": [],
   "source": [
    "SHOEDATA_AGG.hist(bins = 10)"
   ]
  },
  {
   "cell_type": "code",
   "execution_count": 44,
   "id": "71b7149f",
   "metadata": {},
   "outputs": [],
   "source": [
    "SHOEDATA_AGG.hist()"
   ]
  },
  {
   "cell_type": "code",
   "execution_count": 45,
   "id": "a828d55d",
   "metadata": {},
   "outputs": [],
   "source": [
    "import seaborn as sns"
   ]
  },
  {
   "cell_type": "code",
   "execution_count": 46,
   "id": "6213098a",
   "metadata": {},
   "outputs": [],
   "source": [
    "SHOEDATA[[\"DiscountPrice\", \"ActualPrice\"]].describe().hist()"
   ]
  },
  {
   "cell_type": "code",
   "execution_count": 47,
   "id": "74aa764c",
   "metadata": {},
   "outputs": [],
   "source": [
    "SHOEDATA_AGG.hist()"
   ]
  },
  {
   "cell_type": "code",
   "execution_count": 48,
   "id": "3fa82cd2",
   "metadata": {},
   "outputs": [],
   "source": [
    "SHOEDATA[\"DiscountPrice\"].hist()"
   ]
  },
  {
   "cell_type": "code",
   "execution_count": 49,
   "id": "1b9e49bc",
   "metadata": {},
   "outputs": [],
   "source": [
    "SHOEDATA[\"ActualPrice\"].hist()"
   ]
  },
  {
   "cell_type": "code",
   "execution_count": 50,
   "id": "1149790a",
   "metadata": {},
   "outputs": [],
   "source": [
    "SHOEDATA_AGG.hist()"
   ]
  }
 ],
 "metadata": {},
 "nbformat": 4,
 "nbformat_minor": 5
}
