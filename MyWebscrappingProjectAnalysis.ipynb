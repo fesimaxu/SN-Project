{
 "cells": [
  {
   "cell_type": "markdown",
   "metadata": {},
   "source": [
    "## Project Outline\n",
    "      project website : https://www.konga.com/category/men-s-shoes-1527?page=\n",
    "      project idea : To  obtain the details of men's footwears on the site\n",
    "      ShoeData : ShoeName, ShoeColour, ShoePrice and SoldBy"
   ]
  },
  {
   "cell_type": "markdown",
   "metadata": {},
   "source": [
    "## Importing the Selenium and requests library to download webpages"
   ]
  },
  {
   "cell_type": "code",
   "execution_count": 1,
   "metadata": {},
   "outputs": [],
   "source": [
    "import requests"
   ]
  },
  {
   "cell_type": "code",
   "execution_count": 2,
   "metadata": {},
   "outputs": [],
   "source": [
    "from selenium import webdriver\n",
    "from selenium.webdriver.common.keys import Keys"
   ]
  },
  {
   "cell_type": "code",
   "execution_count": 3,
   "metadata": {},
   "outputs": [],
   "source": [
    "driver = webdriver.Chrome(executable_path='C:\\\\Users\\\\Igwe\\\\Downloads\\\\chromedriver_win32\\\\chromedriver.exe')"
   ]
  },
  {
   "cell_type": "markdown",
   "metadata": {},
   "source": [
    "## Scrapping Page 1 of konga.com/category/men-s-shoes"
   ]
  },
  {
   "cell_type": "code",
   "execution_count": 4,
   "metadata": {},
   "outputs": [],
   "source": [
    "base_url = 'https://www.konga.com/category/men-s-shoes-1527?page='\n",
    "driver.get(base_url)"
   ]
  },
  {
   "cell_type": "markdown",
   "metadata": {},
   "source": [
    "## Using Beautiful Soup library to parse and extract information"
   ]
  },
  {
   "cell_type": "code",
   "execution_count": 5,
   "metadata": {},
   "outputs": [],
   "source": [
    "from bs4 import BeautifulSoup as bs "
   ]
  },
  {
   "cell_type": "code",
   "execution_count": 6,
   "metadata": {},
   "outputs": [],
   "source": [
    "html = driver.page_source\n",
    "soup = bs(html,'lxml')"
   ]
  },
  {
   "cell_type": "code",
   "execution_count": 7,
   "metadata": {},
   "outputs": [],
   "source": [
    "fullData = soup.find('section',{'class':'_588b5_3MtNs'})"
   ]
  },
  {
   "cell_type": "code",
   "execution_count": 8,
   "metadata": {},
   "outputs": [],
   "source": [
    "detailData = fullData.find_all('li',{'class':'bbe45_3oExY _22339_3gQb9'})"
   ]
  },
  {
   "cell_type": "code",
   "execution_count": 9,
   "metadata": {},
   "outputs": [
    {
     "data": {
      "text/plain": [
       "20"
      ]
     },
     "execution_count": 9,
     "metadata": {},
     "output_type": "execute_result"
    }
   ],
   "source": [
    "len(detailData)"
   ]
  },
  {
   "cell_type": "code",
   "execution_count": 10,
   "metadata": {},
   "outputs": [],
   "source": [
    "ShoeData = []\n",
    "for i in range(len(detailData)):\n",
    "    ShoeName = detailData[i].find('h3').text\n",
    "    try:\n",
    "        ActualPrice = detailData[i].find('span',{'class':'f6eb3_1MyTu'}).text.lstrip('₦').replace(',','')\n",
    "    except:\n",
    "        ActualPrice = 'na'\n",
    "    \n",
    "    try:\n",
    "        DiscountPrice = detailData[i].find('span',{'class':'d7c0f_sJAqi'}).text.lstrip('₦').replace(',','')\n",
    "    except:\n",
    "         DiscountPrice = 'na'\n",
    "    SoldBy = detailData[i].find('span',{'class':'_7cc7b_23GsY'}).text\n",
    "    ShoeData.append([ShoeName, ActualPrice, DiscountPrice, SoldBy ])"
   ]
  },
  {
   "cell_type": "code",
   "execution_count": 11,
   "metadata": {},
   "outputs": [
    {
     "data": {
      "text/plain": [
       "str"
      ]
     },
     "execution_count": 11,
     "metadata": {},
     "output_type": "execute_result"
    }
   ],
   "source": [
    "type(ActualPrice)"
   ]
  },
  {
   "cell_type": "code",
   "execution_count": 12,
   "metadata": {},
   "outputs": [
    {
     "data": {
      "text/plain": [
       "str"
      ]
     },
     "execution_count": 12,
     "metadata": {},
     "output_type": "execute_result"
    }
   ],
   "source": [
    "type( DiscountPrice)"
   ]
  },
  {
   "cell_type": "code",
   "execution_count": 13,
   "metadata": {
    "scrolled": true
   },
   "outputs": [
    {
     "data": {
      "text/plain": [
       "[[\"Men's Sneakers\", '25000', '22490', 'Sold by  eluss'],\n",
       " [\"Bolun Men's Leather Formal Shoes...\",\n",
       "  '9500',\n",
       "  '7500',\n",
       "  'Sold by  affordablefoots'],\n",
       " [\"Men's Sneakers - Black\", '10000', '8000', 'Sold by  digiconnect'],\n",
       " [\"MAC Men's Half Shoe - Black\", 'na', '8800', 'Sold by  macfedo'],\n",
       " [\"Men's Sneakers- Black\", '20000', '16000', 'Sold by  buchyventures'],\n",
       " [\"Men's Casual Shoes Loafers Shoes...\",\n",
       "  '8000',\n",
       "  '5000',\n",
       "  'Sold by  divine vendor store'],\n",
       " [\"Men's Rugged Lace Up Sneakers\",\n",
       "  'na',\n",
       "  '5120',\n",
       "  'Sold by  morgan scott footwears'],\n",
       " ['Fashion House 2021 Luxury Suede ...',\n",
       "  '16000',\n",
       "  '12500',\n",
       "  \"Sold by  general's store\"],\n",
       " ['Men Corporate Patent Shoe - Blac...',\n",
       "  'na',\n",
       "  '7000',\n",
       "  'Sold by  buolawe store'],\n",
       " ['Unisex High Quality Flip Flops S...',\n",
       "  '3000',\n",
       "  '1500',\n",
       "  'Sold by  ebenezer eletronics'],\n",
       " [\"Men's Loafers Shoes\", '8000', '5000', 'Sold by  divine vendor store'],\n",
       " [\"adidas Men's Beach Slide In - Gr...\",\n",
       "  '19000',\n",
       "  '5500',\n",
       "  'Sold by  de jersey boss'],\n",
       " ['Smart B Presentable Sneakers/can...',\n",
       "  '6000',\n",
       "  '3700',\n",
       "  'Sold by  digiconnect'],\n",
       " ['Unisex Sneakers - Grey', 'na', '8499', 'Sold by  valenjohnex'],\n",
       " [\"HZB Men's Sneakers - Black\", 'na', '5699', 'Sold by  perfectstore'],\n",
       " [\"Fashion Hut Men's Sneakers - Bla...\",\n",
       "  '7000',\n",
       "  '6500',\n",
       "  'Sold by  jessy store'],\n",
       " [\"Men's Sneakers - Black\", 'na', '7500', 'Sold by  richardson'],\n",
       " [\"Men's Flexible Sneakers - Black...\", '10000', '4000', 'Sold by  doyin'],\n",
       " [\"Clarks Glevo Fly Black Men's Lea...\",\n",
       "  '45000',\n",
       "  '35000',\n",
       "  'Sold by  joots internationale'],\n",
       " [\"Men's Classic Shoe - Black\", 'na', '8700', 'Sold by  buolawe store']]"
      ]
     },
     "execution_count": 13,
     "metadata": {},
     "output_type": "execute_result"
    }
   ],
   "source": [
    "ShoeData"
   ]
  },
  {
   "cell_type": "markdown",
   "metadata": {},
   "source": [
    "## Using Pandas to Analysis Data"
   ]
  },
  {
   "cell_type": "code",
   "execution_count": 14,
   "metadata": {},
   "outputs": [],
   "source": [
    "import pandas as pd"
   ]
  },
  {
   "cell_type": "code",
   "execution_count": 15,
   "metadata": {},
   "outputs": [],
   "source": [
    "ShoeData_df = pd.DataFrame(columns=['ShoeName','ActualPrice','DiscountPrice','SoldBy'], data = ShoeData)"
   ]
  },
  {
   "cell_type": "code",
   "execution_count": 16,
   "metadata": {
    "scrolled": true
   },
   "outputs": [
    {
     "data": {
      "text/html": [
       "<div>\n",
       "<style scoped>\n",
       "    .dataframe tbody tr th:only-of-type {\n",
       "        vertical-align: middle;\n",
       "    }\n",
       "\n",
       "    .dataframe tbody tr th {\n",
       "        vertical-align: top;\n",
       "    }\n",
       "\n",
       "    .dataframe thead th {\n",
       "        text-align: right;\n",
       "    }\n",
       "</style>\n",
       "<table border=\"1\" class=\"dataframe\">\n",
       "  <thead>\n",
       "    <tr style=\"text-align: right;\">\n",
       "      <th></th>\n",
       "      <th>ShoeName</th>\n",
       "      <th>ActualPrice</th>\n",
       "      <th>DiscountPrice</th>\n",
       "      <th>SoldBy</th>\n",
       "    </tr>\n",
       "  </thead>\n",
       "  <tbody>\n",
       "    <tr>\n",
       "      <th>0</th>\n",
       "      <td>Men's Sneakers</td>\n",
       "      <td>25000</td>\n",
       "      <td>22490</td>\n",
       "      <td>Sold by  eluss</td>\n",
       "    </tr>\n",
       "    <tr>\n",
       "      <th>1</th>\n",
       "      <td>Bolun Men's Leather Formal Shoes...</td>\n",
       "      <td>9500</td>\n",
       "      <td>7500</td>\n",
       "      <td>Sold by  affordablefoots</td>\n",
       "    </tr>\n",
       "    <tr>\n",
       "      <th>2</th>\n",
       "      <td>Men's Sneakers - Black</td>\n",
       "      <td>10000</td>\n",
       "      <td>8000</td>\n",
       "      <td>Sold by  digiconnect</td>\n",
       "    </tr>\n",
       "    <tr>\n",
       "      <th>3</th>\n",
       "      <td>MAC Men's Half Shoe - Black</td>\n",
       "      <td>na</td>\n",
       "      <td>8800</td>\n",
       "      <td>Sold by  macfedo</td>\n",
       "    </tr>\n",
       "    <tr>\n",
       "      <th>4</th>\n",
       "      <td>Men's Sneakers- Black</td>\n",
       "      <td>20000</td>\n",
       "      <td>16000</td>\n",
       "      <td>Sold by  buchyventures</td>\n",
       "    </tr>\n",
       "    <tr>\n",
       "      <th>5</th>\n",
       "      <td>Men's Casual Shoes Loafers Shoes...</td>\n",
       "      <td>8000</td>\n",
       "      <td>5000</td>\n",
       "      <td>Sold by  divine vendor store</td>\n",
       "    </tr>\n",
       "    <tr>\n",
       "      <th>6</th>\n",
       "      <td>Men's Rugged Lace Up Sneakers</td>\n",
       "      <td>na</td>\n",
       "      <td>5120</td>\n",
       "      <td>Sold by  morgan scott footwears</td>\n",
       "    </tr>\n",
       "    <tr>\n",
       "      <th>7</th>\n",
       "      <td>Fashion House 2021 Luxury Suede ...</td>\n",
       "      <td>16000</td>\n",
       "      <td>12500</td>\n",
       "      <td>Sold by  general's store</td>\n",
       "    </tr>\n",
       "    <tr>\n",
       "      <th>8</th>\n",
       "      <td>Men Corporate Patent Shoe - Blac...</td>\n",
       "      <td>na</td>\n",
       "      <td>7000</td>\n",
       "      <td>Sold by  buolawe store</td>\n",
       "    </tr>\n",
       "    <tr>\n",
       "      <th>9</th>\n",
       "      <td>Unisex High Quality Flip Flops S...</td>\n",
       "      <td>3000</td>\n",
       "      <td>1500</td>\n",
       "      <td>Sold by  ebenezer eletronics</td>\n",
       "    </tr>\n",
       "    <tr>\n",
       "      <th>10</th>\n",
       "      <td>Men's Loafers Shoes</td>\n",
       "      <td>8000</td>\n",
       "      <td>5000</td>\n",
       "      <td>Sold by  divine vendor store</td>\n",
       "    </tr>\n",
       "    <tr>\n",
       "      <th>11</th>\n",
       "      <td>adidas Men's Beach Slide In - Gr...</td>\n",
       "      <td>19000</td>\n",
       "      <td>5500</td>\n",
       "      <td>Sold by  de jersey boss</td>\n",
       "    </tr>\n",
       "    <tr>\n",
       "      <th>12</th>\n",
       "      <td>Smart B Presentable Sneakers/can...</td>\n",
       "      <td>6000</td>\n",
       "      <td>3700</td>\n",
       "      <td>Sold by  digiconnect</td>\n",
       "    </tr>\n",
       "    <tr>\n",
       "      <th>13</th>\n",
       "      <td>Unisex Sneakers - Grey</td>\n",
       "      <td>na</td>\n",
       "      <td>8499</td>\n",
       "      <td>Sold by  valenjohnex</td>\n",
       "    </tr>\n",
       "    <tr>\n",
       "      <th>14</th>\n",
       "      <td>HZB Men's Sneakers - Black</td>\n",
       "      <td>na</td>\n",
       "      <td>5699</td>\n",
       "      <td>Sold by  perfectstore</td>\n",
       "    </tr>\n",
       "    <tr>\n",
       "      <th>15</th>\n",
       "      <td>Fashion Hut Men's Sneakers - Bla...</td>\n",
       "      <td>7000</td>\n",
       "      <td>6500</td>\n",
       "      <td>Sold by  jessy store</td>\n",
       "    </tr>\n",
       "    <tr>\n",
       "      <th>16</th>\n",
       "      <td>Men's Sneakers - Black</td>\n",
       "      <td>na</td>\n",
       "      <td>7500</td>\n",
       "      <td>Sold by  richardson</td>\n",
       "    </tr>\n",
       "    <tr>\n",
       "      <th>17</th>\n",
       "      <td>Men's Flexible Sneakers - Black...</td>\n",
       "      <td>10000</td>\n",
       "      <td>4000</td>\n",
       "      <td>Sold by  doyin</td>\n",
       "    </tr>\n",
       "    <tr>\n",
       "      <th>18</th>\n",
       "      <td>Clarks Glevo Fly Black Men's Lea...</td>\n",
       "      <td>45000</td>\n",
       "      <td>35000</td>\n",
       "      <td>Sold by  joots internationale</td>\n",
       "    </tr>\n",
       "    <tr>\n",
       "      <th>19</th>\n",
       "      <td>Men's Classic Shoe - Black</td>\n",
       "      <td>na</td>\n",
       "      <td>8700</td>\n",
       "      <td>Sold by  buolawe store</td>\n",
       "    </tr>\n",
       "  </tbody>\n",
       "</table>\n",
       "</div>"
      ],
      "text/plain": [
       "                               ShoeName ActualPrice DiscountPrice  \\\n",
       "0                        Men's Sneakers       25000         22490   \n",
       "1   Bolun Men's Leather Formal Shoes...        9500          7500   \n",
       "2                Men's Sneakers - Black       10000          8000   \n",
       "3           MAC Men's Half Shoe - Black          na          8800   \n",
       "4                 Men's Sneakers- Black       20000         16000   \n",
       "5   Men's Casual Shoes Loafers Shoes...        8000          5000   \n",
       "6         Men's Rugged Lace Up Sneakers          na          5120   \n",
       "7   Fashion House 2021 Luxury Suede ...       16000         12500   \n",
       "8   Men Corporate Patent Shoe - Blac...          na          7000   \n",
       "9   Unisex High Quality Flip Flops S...        3000          1500   \n",
       "10                  Men's Loafers Shoes        8000          5000   \n",
       "11  adidas Men's Beach Slide In - Gr...       19000          5500   \n",
       "12  Smart B Presentable Sneakers/can...        6000          3700   \n",
       "13               Unisex Sneakers - Grey          na          8499   \n",
       "14           HZB Men's Sneakers - Black          na          5699   \n",
       "15  Fashion Hut Men's Sneakers - Bla...        7000          6500   \n",
       "16               Men's Sneakers - Black          na          7500   \n",
       "17   Men's Flexible Sneakers - Black...       10000          4000   \n",
       "18  Clarks Glevo Fly Black Men's Lea...       45000         35000   \n",
       "19           Men's Classic Shoe - Black          na          8700   \n",
       "\n",
       "                             SoldBy  \n",
       "0                    Sold by  eluss  \n",
       "1          Sold by  affordablefoots  \n",
       "2              Sold by  digiconnect  \n",
       "3                  Sold by  macfedo  \n",
       "4            Sold by  buchyventures  \n",
       "5      Sold by  divine vendor store  \n",
       "6   Sold by  morgan scott footwears  \n",
       "7          Sold by  general's store  \n",
       "8            Sold by  buolawe store  \n",
       "9      Sold by  ebenezer eletronics  \n",
       "10     Sold by  divine vendor store  \n",
       "11          Sold by  de jersey boss  \n",
       "12             Sold by  digiconnect  \n",
       "13             Sold by  valenjohnex  \n",
       "14            Sold by  perfectstore  \n",
       "15             Sold by  jessy store  \n",
       "16              Sold by  richardson  \n",
       "17                   Sold by  doyin  \n",
       "18    Sold by  joots internationale  \n",
       "19           Sold by  buolawe store  "
      ]
     },
     "execution_count": 16,
     "metadata": {},
     "output_type": "execute_result"
    }
   ],
   "source": [
    "ShoeData_df"
   ]
  },
  {
   "cell_type": "code",
   "execution_count": 17,
   "metadata": {},
   "outputs": [
    {
     "data": {
      "text/html": [
       "<div>\n",
       "<style scoped>\n",
       "    .dataframe tbody tr th:only-of-type {\n",
       "        vertical-align: middle;\n",
       "    }\n",
       "\n",
       "    .dataframe tbody tr th {\n",
       "        vertical-align: top;\n",
       "    }\n",
       "\n",
       "    .dataframe thead th {\n",
       "        text-align: right;\n",
       "    }\n",
       "</style>\n",
       "<table border=\"1\" class=\"dataframe\">\n",
       "  <thead>\n",
       "    <tr style=\"text-align: right;\">\n",
       "      <th></th>\n",
       "      <th>ShoeName</th>\n",
       "      <th>ActualPrice</th>\n",
       "      <th>DiscountPrice</th>\n",
       "      <th>SoldBy</th>\n",
       "    </tr>\n",
       "  </thead>\n",
       "  <tbody>\n",
       "    <tr>\n",
       "      <th>0</th>\n",
       "      <td>Men's Sneakers</td>\n",
       "      <td>25000</td>\n",
       "      <td>22490</td>\n",
       "      <td>Sold by  eluss</td>\n",
       "    </tr>\n",
       "    <tr>\n",
       "      <th>1</th>\n",
       "      <td>Bolun Men's Leather Formal Shoes...</td>\n",
       "      <td>9500</td>\n",
       "      <td>7500</td>\n",
       "      <td>Sold by  affordablefoots</td>\n",
       "    </tr>\n",
       "    <tr>\n",
       "      <th>2</th>\n",
       "      <td>Men's Sneakers - Black</td>\n",
       "      <td>10000</td>\n",
       "      <td>8000</td>\n",
       "      <td>Sold by  digiconnect</td>\n",
       "    </tr>\n",
       "    <tr>\n",
       "      <th>3</th>\n",
       "      <td>MAC Men's Half Shoe - Black</td>\n",
       "      <td>na</td>\n",
       "      <td>8800</td>\n",
       "      <td>Sold by  macfedo</td>\n",
       "    </tr>\n",
       "    <tr>\n",
       "      <th>4</th>\n",
       "      <td>Men's Sneakers- Black</td>\n",
       "      <td>20000</td>\n",
       "      <td>16000</td>\n",
       "      <td>Sold by  buchyventures</td>\n",
       "    </tr>\n",
       "  </tbody>\n",
       "</table>\n",
       "</div>"
      ],
      "text/plain": [
       "                              ShoeName ActualPrice DiscountPrice  \\\n",
       "0                       Men's Sneakers       25000         22490   \n",
       "1  Bolun Men's Leather Formal Shoes...        9500          7500   \n",
       "2               Men's Sneakers - Black       10000          8000   \n",
       "3          MAC Men's Half Shoe - Black          na          8800   \n",
       "4                Men's Sneakers- Black       20000         16000   \n",
       "\n",
       "                     SoldBy  \n",
       "0            Sold by  eluss  \n",
       "1  Sold by  affordablefoots  \n",
       "2      Sold by  digiconnect  \n",
       "3          Sold by  macfedo  \n",
       "4    Sold by  buchyventures  "
      ]
     },
     "execution_count": 17,
     "metadata": {},
     "output_type": "execute_result"
    }
   ],
   "source": [
    "ShoeData_df.head()"
   ]
  },
  {
   "cell_type": "code",
   "execution_count": 18,
   "metadata": {},
   "outputs": [
    {
     "data": {
      "text/html": [
       "<div>\n",
       "<style scoped>\n",
       "    .dataframe tbody tr th:only-of-type {\n",
       "        vertical-align: middle;\n",
       "    }\n",
       "\n",
       "    .dataframe tbody tr th {\n",
       "        vertical-align: top;\n",
       "    }\n",
       "\n",
       "    .dataframe thead th {\n",
       "        text-align: right;\n",
       "    }\n",
       "</style>\n",
       "<table border=\"1\" class=\"dataframe\">\n",
       "  <thead>\n",
       "    <tr style=\"text-align: right;\">\n",
       "      <th></th>\n",
       "      <th>ShoeName</th>\n",
       "      <th>ActualPrice</th>\n",
       "      <th>DiscountPrice</th>\n",
       "      <th>SoldBy</th>\n",
       "    </tr>\n",
       "  </thead>\n",
       "  <tbody>\n",
       "    <tr>\n",
       "      <th>15</th>\n",
       "      <td>Fashion Hut Men's Sneakers - Bla...</td>\n",
       "      <td>7000</td>\n",
       "      <td>6500</td>\n",
       "      <td>Sold by  jessy store</td>\n",
       "    </tr>\n",
       "    <tr>\n",
       "      <th>16</th>\n",
       "      <td>Men's Sneakers - Black</td>\n",
       "      <td>na</td>\n",
       "      <td>7500</td>\n",
       "      <td>Sold by  richardson</td>\n",
       "    </tr>\n",
       "    <tr>\n",
       "      <th>17</th>\n",
       "      <td>Men's Flexible Sneakers - Black...</td>\n",
       "      <td>10000</td>\n",
       "      <td>4000</td>\n",
       "      <td>Sold by  doyin</td>\n",
       "    </tr>\n",
       "    <tr>\n",
       "      <th>18</th>\n",
       "      <td>Clarks Glevo Fly Black Men's Lea...</td>\n",
       "      <td>45000</td>\n",
       "      <td>35000</td>\n",
       "      <td>Sold by  joots internationale</td>\n",
       "    </tr>\n",
       "    <tr>\n",
       "      <th>19</th>\n",
       "      <td>Men's Classic Shoe - Black</td>\n",
       "      <td>na</td>\n",
       "      <td>8700</td>\n",
       "      <td>Sold by  buolawe store</td>\n",
       "    </tr>\n",
       "  </tbody>\n",
       "</table>\n",
       "</div>"
      ],
      "text/plain": [
       "                               ShoeName ActualPrice DiscountPrice  \\\n",
       "15  Fashion Hut Men's Sneakers - Bla...        7000          6500   \n",
       "16               Men's Sneakers - Black          na          7500   \n",
       "17   Men's Flexible Sneakers - Black...       10000          4000   \n",
       "18  Clarks Glevo Fly Black Men's Lea...       45000         35000   \n",
       "19           Men's Classic Shoe - Black          na          8700   \n",
       "\n",
       "                           SoldBy  \n",
       "15           Sold by  jessy store  \n",
       "16            Sold by  richardson  \n",
       "17                 Sold by  doyin  \n",
       "18  Sold by  joots internationale  \n",
       "19         Sold by  buolawe store  "
      ]
     },
     "execution_count": 18,
     "metadata": {},
     "output_type": "execute_result"
    }
   ],
   "source": [
    "ShoeData_df.tail()"
   ]
  },
  {
   "cell_type": "markdown",
   "metadata": {},
   "source": [
    "## Creating a CSV File SHOEDATA"
   ]
  },
  {
   "cell_type": "code",
   "execution_count": 19,
   "metadata": {},
   "outputs": [],
   "source": [
    "ShoeData_df.to_csv('SHOEDATA OF PAGE1.csv',index = None)\n",
    "\n"
   ]
  },
  {
   "cell_type": "markdown",
   "metadata": {},
   "source": [
    "## Reading a CSV File SHOEDATA"
   ]
  },
  {
   "cell_type": "code",
   "execution_count": 20,
   "metadata": {},
   "outputs": [],
   "source": [
    "SHOEDATA = pd.read_csv(\"SHOEDATA OF PAGE1.csv\")"
   ]
  },
  {
   "cell_type": "markdown",
   "metadata": {},
   "source": [
    "## Dropping the 'na' values on the DataFrame"
   ]
  },
  {
   "cell_type": "code",
   "execution_count": 21,
   "metadata": {},
   "outputs": [],
   "source": [
    "SHOEDATA['ActualPrice'] = SHOEDATA['ActualPrice'].replace('na',0)"
   ]
  },
  {
   "cell_type": "code",
   "execution_count": 22,
   "metadata": {},
   "outputs": [
    {
     "data": {
      "text/html": [
       "<div>\n",
       "<style scoped>\n",
       "    .dataframe tbody tr th:only-of-type {\n",
       "        vertical-align: middle;\n",
       "    }\n",
       "\n",
       "    .dataframe tbody tr th {\n",
       "        vertical-align: top;\n",
       "    }\n",
       "\n",
       "    .dataframe thead th {\n",
       "        text-align: right;\n",
       "    }\n",
       "</style>\n",
       "<table border=\"1\" class=\"dataframe\">\n",
       "  <thead>\n",
       "    <tr style=\"text-align: right;\">\n",
       "      <th></th>\n",
       "      <th>ShoeName</th>\n",
       "      <th>ActualPrice</th>\n",
       "      <th>DiscountPrice</th>\n",
       "      <th>SoldBy</th>\n",
       "    </tr>\n",
       "  </thead>\n",
       "  <tbody>\n",
       "    <tr>\n",
       "      <th>0</th>\n",
       "      <td>Men's Sneakers</td>\n",
       "      <td>25000</td>\n",
       "      <td>22490</td>\n",
       "      <td>Sold by  eluss</td>\n",
       "    </tr>\n",
       "    <tr>\n",
       "      <th>1</th>\n",
       "      <td>Bolun Men's Leather Formal Shoes...</td>\n",
       "      <td>9500</td>\n",
       "      <td>7500</td>\n",
       "      <td>Sold by  affordablefoots</td>\n",
       "    </tr>\n",
       "    <tr>\n",
       "      <th>2</th>\n",
       "      <td>Men's Sneakers - Black</td>\n",
       "      <td>10000</td>\n",
       "      <td>8000</td>\n",
       "      <td>Sold by  digiconnect</td>\n",
       "    </tr>\n",
       "    <tr>\n",
       "      <th>3</th>\n",
       "      <td>MAC Men's Half Shoe - Black</td>\n",
       "      <td>0</td>\n",
       "      <td>8800</td>\n",
       "      <td>Sold by  macfedo</td>\n",
       "    </tr>\n",
       "    <tr>\n",
       "      <th>4</th>\n",
       "      <td>Men's Sneakers- Black</td>\n",
       "      <td>20000</td>\n",
       "      <td>16000</td>\n",
       "      <td>Sold by  buchyventures</td>\n",
       "    </tr>\n",
       "    <tr>\n",
       "      <th>5</th>\n",
       "      <td>Men's Casual Shoes Loafers Shoes...</td>\n",
       "      <td>8000</td>\n",
       "      <td>5000</td>\n",
       "      <td>Sold by  divine vendor store</td>\n",
       "    </tr>\n",
       "    <tr>\n",
       "      <th>6</th>\n",
       "      <td>Men's Rugged Lace Up Sneakers</td>\n",
       "      <td>0</td>\n",
       "      <td>5120</td>\n",
       "      <td>Sold by  morgan scott footwears</td>\n",
       "    </tr>\n",
       "    <tr>\n",
       "      <th>7</th>\n",
       "      <td>Fashion House 2021 Luxury Suede ...</td>\n",
       "      <td>16000</td>\n",
       "      <td>12500</td>\n",
       "      <td>Sold by  general's store</td>\n",
       "    </tr>\n",
       "    <tr>\n",
       "      <th>8</th>\n",
       "      <td>Men Corporate Patent Shoe - Blac...</td>\n",
       "      <td>0</td>\n",
       "      <td>7000</td>\n",
       "      <td>Sold by  buolawe store</td>\n",
       "    </tr>\n",
       "    <tr>\n",
       "      <th>9</th>\n",
       "      <td>Unisex High Quality Flip Flops S...</td>\n",
       "      <td>3000</td>\n",
       "      <td>1500</td>\n",
       "      <td>Sold by  ebenezer eletronics</td>\n",
       "    </tr>\n",
       "    <tr>\n",
       "      <th>10</th>\n",
       "      <td>Men's Loafers Shoes</td>\n",
       "      <td>8000</td>\n",
       "      <td>5000</td>\n",
       "      <td>Sold by  divine vendor store</td>\n",
       "    </tr>\n",
       "    <tr>\n",
       "      <th>11</th>\n",
       "      <td>adidas Men's Beach Slide In - Gr...</td>\n",
       "      <td>19000</td>\n",
       "      <td>5500</td>\n",
       "      <td>Sold by  de jersey boss</td>\n",
       "    </tr>\n",
       "    <tr>\n",
       "      <th>12</th>\n",
       "      <td>Smart B Presentable Sneakers/can...</td>\n",
       "      <td>6000</td>\n",
       "      <td>3700</td>\n",
       "      <td>Sold by  digiconnect</td>\n",
       "    </tr>\n",
       "    <tr>\n",
       "      <th>13</th>\n",
       "      <td>Unisex Sneakers - Grey</td>\n",
       "      <td>0</td>\n",
       "      <td>8499</td>\n",
       "      <td>Sold by  valenjohnex</td>\n",
       "    </tr>\n",
       "    <tr>\n",
       "      <th>14</th>\n",
       "      <td>HZB Men's Sneakers - Black</td>\n",
       "      <td>0</td>\n",
       "      <td>5699</td>\n",
       "      <td>Sold by  perfectstore</td>\n",
       "    </tr>\n",
       "    <tr>\n",
       "      <th>15</th>\n",
       "      <td>Fashion Hut Men's Sneakers - Bla...</td>\n",
       "      <td>7000</td>\n",
       "      <td>6500</td>\n",
       "      <td>Sold by  jessy store</td>\n",
       "    </tr>\n",
       "    <tr>\n",
       "      <th>16</th>\n",
       "      <td>Men's Sneakers - Black</td>\n",
       "      <td>0</td>\n",
       "      <td>7500</td>\n",
       "      <td>Sold by  richardson</td>\n",
       "    </tr>\n",
       "    <tr>\n",
       "      <th>17</th>\n",
       "      <td>Men's Flexible Sneakers - Black...</td>\n",
       "      <td>10000</td>\n",
       "      <td>4000</td>\n",
       "      <td>Sold by  doyin</td>\n",
       "    </tr>\n",
       "    <tr>\n",
       "      <th>18</th>\n",
       "      <td>Clarks Glevo Fly Black Men's Lea...</td>\n",
       "      <td>45000</td>\n",
       "      <td>35000</td>\n",
       "      <td>Sold by  joots internationale</td>\n",
       "    </tr>\n",
       "    <tr>\n",
       "      <th>19</th>\n",
       "      <td>Men's Classic Shoe - Black</td>\n",
       "      <td>0</td>\n",
       "      <td>8700</td>\n",
       "      <td>Sold by  buolawe store</td>\n",
       "    </tr>\n",
       "  </tbody>\n",
       "</table>\n",
       "</div>"
      ],
      "text/plain": [
       "                               ShoeName ActualPrice  DiscountPrice  \\\n",
       "0                        Men's Sneakers       25000          22490   \n",
       "1   Bolun Men's Leather Formal Shoes...        9500           7500   \n",
       "2                Men's Sneakers - Black       10000           8000   \n",
       "3           MAC Men's Half Shoe - Black           0           8800   \n",
       "4                 Men's Sneakers- Black       20000          16000   \n",
       "5   Men's Casual Shoes Loafers Shoes...        8000           5000   \n",
       "6         Men's Rugged Lace Up Sneakers           0           5120   \n",
       "7   Fashion House 2021 Luxury Suede ...       16000          12500   \n",
       "8   Men Corporate Patent Shoe - Blac...           0           7000   \n",
       "9   Unisex High Quality Flip Flops S...        3000           1500   \n",
       "10                  Men's Loafers Shoes        8000           5000   \n",
       "11  adidas Men's Beach Slide In - Gr...       19000           5500   \n",
       "12  Smart B Presentable Sneakers/can...        6000           3700   \n",
       "13               Unisex Sneakers - Grey           0           8499   \n",
       "14           HZB Men's Sneakers - Black           0           5699   \n",
       "15  Fashion Hut Men's Sneakers - Bla...        7000           6500   \n",
       "16               Men's Sneakers - Black           0           7500   \n",
       "17   Men's Flexible Sneakers - Black...       10000           4000   \n",
       "18  Clarks Glevo Fly Black Men's Lea...       45000          35000   \n",
       "19           Men's Classic Shoe - Black           0           8700   \n",
       "\n",
       "                             SoldBy  \n",
       "0                    Sold by  eluss  \n",
       "1          Sold by  affordablefoots  \n",
       "2              Sold by  digiconnect  \n",
       "3                  Sold by  macfedo  \n",
       "4            Sold by  buchyventures  \n",
       "5      Sold by  divine vendor store  \n",
       "6   Sold by  morgan scott footwears  \n",
       "7          Sold by  general's store  \n",
       "8            Sold by  buolawe store  \n",
       "9      Sold by  ebenezer eletronics  \n",
       "10     Sold by  divine vendor store  \n",
       "11          Sold by  de jersey boss  \n",
       "12             Sold by  digiconnect  \n",
       "13             Sold by  valenjohnex  \n",
       "14            Sold by  perfectstore  \n",
       "15             Sold by  jessy store  \n",
       "16              Sold by  richardson  \n",
       "17                   Sold by  doyin  \n",
       "18    Sold by  joots internationale  \n",
       "19           Sold by  buolawe store  "
      ]
     },
     "execution_count": 22,
     "metadata": {},
     "output_type": "execute_result"
    }
   ],
   "source": [
    "SHOEDATA"
   ]
  },
  {
   "cell_type": "markdown",
   "metadata": {},
   "source": [
    "## Pandas Data Cleaning\n",
    "     \n",
    "     Cleaning up the SHOEDATA.CSV by filling the null values with zero(0)\n",
    "     \n",
    "     Converting the format of ActualPrice and DiscountPrice fro string to int values using .astype()\n",
    "     "
   ]
  },
  {
   "cell_type": "code",
   "execution_count": 23,
   "metadata": {},
   "outputs": [
    {
     "name": "stdout",
     "output_type": "stream",
     "text": [
      "Requirement already satisfied: numpy in c:\\users\\igwe\\anaconda4\\lib\\site-packages (1.20.1)\n",
      "Note: you may need to restart the kernel to use updated packages.\n"
     ]
    }
   ],
   "source": [
    "pip install numpy "
   ]
  },
  {
   "cell_type": "code",
   "execution_count": 24,
   "metadata": {},
   "outputs": [],
   "source": [
    "import numpy as np"
   ]
  },
  {
   "cell_type": "markdown",
   "metadata": {},
   "source": [
    "## Converting the string number values to int values"
   ]
  },
  {
   "cell_type": "code",
   "execution_count": 25,
   "metadata": {},
   "outputs": [],
   "source": [
    "SHOEDATA['ActualPrice'] =SHOEDATA['ActualPrice'].astype(int)"
   ]
  },
  {
   "cell_type": "code",
   "execution_count": 26,
   "metadata": {},
   "outputs": [],
   "source": [
    "SHOEDATA['DiscountPrice'] =SHOEDATA['DiscountPrice'].astype(int)"
   ]
  },
  {
   "cell_type": "code",
   "execution_count": 27,
   "metadata": {},
   "outputs": [
    {
     "data": {
      "text/html": [
       "<div>\n",
       "<style scoped>\n",
       "    .dataframe tbody tr th:only-of-type {\n",
       "        vertical-align: middle;\n",
       "    }\n",
       "\n",
       "    .dataframe tbody tr th {\n",
       "        vertical-align: top;\n",
       "    }\n",
       "\n",
       "    .dataframe thead th {\n",
       "        text-align: right;\n",
       "    }\n",
       "</style>\n",
       "<table border=\"1\" class=\"dataframe\">\n",
       "  <thead>\n",
       "    <tr style=\"text-align: right;\">\n",
       "      <th></th>\n",
       "      <th>ShoeName</th>\n",
       "      <th>ActualPrice</th>\n",
       "      <th>DiscountPrice</th>\n",
       "      <th>SoldBy</th>\n",
       "    </tr>\n",
       "  </thead>\n",
       "  <tbody>\n",
       "    <tr>\n",
       "      <th>0</th>\n",
       "      <td>Men's Sneakers</td>\n",
       "      <td>25000</td>\n",
       "      <td>22490</td>\n",
       "      <td>Sold by  eluss</td>\n",
       "    </tr>\n",
       "    <tr>\n",
       "      <th>1</th>\n",
       "      <td>Bolun Men's Leather Formal Shoes...</td>\n",
       "      <td>9500</td>\n",
       "      <td>7500</td>\n",
       "      <td>Sold by  affordablefoots</td>\n",
       "    </tr>\n",
       "    <tr>\n",
       "      <th>2</th>\n",
       "      <td>Men's Sneakers - Black</td>\n",
       "      <td>10000</td>\n",
       "      <td>8000</td>\n",
       "      <td>Sold by  digiconnect</td>\n",
       "    </tr>\n",
       "    <tr>\n",
       "      <th>3</th>\n",
       "      <td>MAC Men's Half Shoe - Black</td>\n",
       "      <td>0</td>\n",
       "      <td>8800</td>\n",
       "      <td>Sold by  macfedo</td>\n",
       "    </tr>\n",
       "    <tr>\n",
       "      <th>4</th>\n",
       "      <td>Men's Sneakers- Black</td>\n",
       "      <td>20000</td>\n",
       "      <td>16000</td>\n",
       "      <td>Sold by  buchyventures</td>\n",
       "    </tr>\n",
       "    <tr>\n",
       "      <th>5</th>\n",
       "      <td>Men's Casual Shoes Loafers Shoes...</td>\n",
       "      <td>8000</td>\n",
       "      <td>5000</td>\n",
       "      <td>Sold by  divine vendor store</td>\n",
       "    </tr>\n",
       "    <tr>\n",
       "      <th>6</th>\n",
       "      <td>Men's Rugged Lace Up Sneakers</td>\n",
       "      <td>0</td>\n",
       "      <td>5120</td>\n",
       "      <td>Sold by  morgan scott footwears</td>\n",
       "    </tr>\n",
       "    <tr>\n",
       "      <th>7</th>\n",
       "      <td>Fashion House 2021 Luxury Suede ...</td>\n",
       "      <td>16000</td>\n",
       "      <td>12500</td>\n",
       "      <td>Sold by  general's store</td>\n",
       "    </tr>\n",
       "    <tr>\n",
       "      <th>8</th>\n",
       "      <td>Men Corporate Patent Shoe - Blac...</td>\n",
       "      <td>0</td>\n",
       "      <td>7000</td>\n",
       "      <td>Sold by  buolawe store</td>\n",
       "    </tr>\n",
       "    <tr>\n",
       "      <th>9</th>\n",
       "      <td>Unisex High Quality Flip Flops S...</td>\n",
       "      <td>3000</td>\n",
       "      <td>1500</td>\n",
       "      <td>Sold by  ebenezer eletronics</td>\n",
       "    </tr>\n",
       "    <tr>\n",
       "      <th>10</th>\n",
       "      <td>Men's Loafers Shoes</td>\n",
       "      <td>8000</td>\n",
       "      <td>5000</td>\n",
       "      <td>Sold by  divine vendor store</td>\n",
       "    </tr>\n",
       "    <tr>\n",
       "      <th>11</th>\n",
       "      <td>adidas Men's Beach Slide In - Gr...</td>\n",
       "      <td>19000</td>\n",
       "      <td>5500</td>\n",
       "      <td>Sold by  de jersey boss</td>\n",
       "    </tr>\n",
       "    <tr>\n",
       "      <th>12</th>\n",
       "      <td>Smart B Presentable Sneakers/can...</td>\n",
       "      <td>6000</td>\n",
       "      <td>3700</td>\n",
       "      <td>Sold by  digiconnect</td>\n",
       "    </tr>\n",
       "    <tr>\n",
       "      <th>13</th>\n",
       "      <td>Unisex Sneakers - Grey</td>\n",
       "      <td>0</td>\n",
       "      <td>8499</td>\n",
       "      <td>Sold by  valenjohnex</td>\n",
       "    </tr>\n",
       "    <tr>\n",
       "      <th>14</th>\n",
       "      <td>HZB Men's Sneakers - Black</td>\n",
       "      <td>0</td>\n",
       "      <td>5699</td>\n",
       "      <td>Sold by  perfectstore</td>\n",
       "    </tr>\n",
       "    <tr>\n",
       "      <th>15</th>\n",
       "      <td>Fashion Hut Men's Sneakers - Bla...</td>\n",
       "      <td>7000</td>\n",
       "      <td>6500</td>\n",
       "      <td>Sold by  jessy store</td>\n",
       "    </tr>\n",
       "    <tr>\n",
       "      <th>16</th>\n",
       "      <td>Men's Sneakers - Black</td>\n",
       "      <td>0</td>\n",
       "      <td>7500</td>\n",
       "      <td>Sold by  richardson</td>\n",
       "    </tr>\n",
       "    <tr>\n",
       "      <th>17</th>\n",
       "      <td>Men's Flexible Sneakers - Black...</td>\n",
       "      <td>10000</td>\n",
       "      <td>4000</td>\n",
       "      <td>Sold by  doyin</td>\n",
       "    </tr>\n",
       "    <tr>\n",
       "      <th>18</th>\n",
       "      <td>Clarks Glevo Fly Black Men's Lea...</td>\n",
       "      <td>45000</td>\n",
       "      <td>35000</td>\n",
       "      <td>Sold by  joots internationale</td>\n",
       "    </tr>\n",
       "    <tr>\n",
       "      <th>19</th>\n",
       "      <td>Men's Classic Shoe - Black</td>\n",
       "      <td>0</td>\n",
       "      <td>8700</td>\n",
       "      <td>Sold by  buolawe store</td>\n",
       "    </tr>\n",
       "  </tbody>\n",
       "</table>\n",
       "</div>"
      ],
      "text/plain": [
       "                               ShoeName  ActualPrice  DiscountPrice  \\\n",
       "0                        Men's Sneakers        25000          22490   \n",
       "1   Bolun Men's Leather Formal Shoes...         9500           7500   \n",
       "2                Men's Sneakers - Black        10000           8000   \n",
       "3           MAC Men's Half Shoe - Black            0           8800   \n",
       "4                 Men's Sneakers- Black        20000          16000   \n",
       "5   Men's Casual Shoes Loafers Shoes...         8000           5000   \n",
       "6         Men's Rugged Lace Up Sneakers            0           5120   \n",
       "7   Fashion House 2021 Luxury Suede ...        16000          12500   \n",
       "8   Men Corporate Patent Shoe - Blac...            0           7000   \n",
       "9   Unisex High Quality Flip Flops S...         3000           1500   \n",
       "10                  Men's Loafers Shoes         8000           5000   \n",
       "11  adidas Men's Beach Slide In - Gr...        19000           5500   \n",
       "12  Smart B Presentable Sneakers/can...         6000           3700   \n",
       "13               Unisex Sneakers - Grey            0           8499   \n",
       "14           HZB Men's Sneakers - Black            0           5699   \n",
       "15  Fashion Hut Men's Sneakers - Bla...         7000           6500   \n",
       "16               Men's Sneakers - Black            0           7500   \n",
       "17   Men's Flexible Sneakers - Black...        10000           4000   \n",
       "18  Clarks Glevo Fly Black Men's Lea...        45000          35000   \n",
       "19           Men's Classic Shoe - Black            0           8700   \n",
       "\n",
       "                             SoldBy  \n",
       "0                    Sold by  eluss  \n",
       "1          Sold by  affordablefoots  \n",
       "2              Sold by  digiconnect  \n",
       "3                  Sold by  macfedo  \n",
       "4            Sold by  buchyventures  \n",
       "5      Sold by  divine vendor store  \n",
       "6   Sold by  morgan scott footwears  \n",
       "7          Sold by  general's store  \n",
       "8            Sold by  buolawe store  \n",
       "9      Sold by  ebenezer eletronics  \n",
       "10     Sold by  divine vendor store  \n",
       "11          Sold by  de jersey boss  \n",
       "12             Sold by  digiconnect  \n",
       "13             Sold by  valenjohnex  \n",
       "14            Sold by  perfectstore  \n",
       "15             Sold by  jessy store  \n",
       "16              Sold by  richardson  \n",
       "17                   Sold by  doyin  \n",
       "18    Sold by  joots internationale  \n",
       "19           Sold by  buolawe store  "
      ]
     },
     "execution_count": 27,
     "metadata": {},
     "output_type": "execute_result"
    }
   ],
   "source": [
    "SHOEDATA"
   ]
  },
  {
   "cell_type": "markdown",
   "metadata": {},
   "source": [
    "## Pandas Analysis on the DataFrame SHOEDATA"
   ]
  },
  {
   "cell_type": "code",
   "execution_count": 28,
   "metadata": {},
   "outputs": [
    {
     "data": {
      "text/html": [
       "<div>\n",
       "<style scoped>\n",
       "    .dataframe tbody tr th:only-of-type {\n",
       "        vertical-align: middle;\n",
       "    }\n",
       "\n",
       "    .dataframe tbody tr th {\n",
       "        vertical-align: top;\n",
       "    }\n",
       "\n",
       "    .dataframe thead th {\n",
       "        text-align: right;\n",
       "    }\n",
       "</style>\n",
       "<table border=\"1\" class=\"dataframe\">\n",
       "  <thead>\n",
       "    <tr style=\"text-align: right;\">\n",
       "      <th></th>\n",
       "      <th>ActualPrice</th>\n",
       "      <th>DiscountPrice</th>\n",
       "    </tr>\n",
       "  </thead>\n",
       "  <tbody>\n",
       "    <tr>\n",
       "      <th>ActualPrice</th>\n",
       "      <td>1.000000</td>\n",
       "      <td>0.842626</td>\n",
       "    </tr>\n",
       "    <tr>\n",
       "      <th>DiscountPrice</th>\n",
       "      <td>0.842626</td>\n",
       "      <td>1.000000</td>\n",
       "    </tr>\n",
       "  </tbody>\n",
       "</table>\n",
       "</div>"
      ],
      "text/plain": [
       "               ActualPrice  DiscountPrice\n",
       "ActualPrice       1.000000       0.842626\n",
       "DiscountPrice     0.842626       1.000000"
      ]
     },
     "execution_count": 28,
     "metadata": {},
     "output_type": "execute_result"
    }
   ],
   "source": [
    "SHOEDATA.corr()"
   ]
  },
  {
   "cell_type": "code",
   "execution_count": 29,
   "metadata": {},
   "outputs": [
    {
     "name": "stdout",
     "output_type": "stream",
     "text": [
      "<class 'pandas.core.frame.DataFrame'>\n",
      "RangeIndex: 20 entries, 0 to 19\n",
      "Data columns (total 4 columns):\n",
      " #   Column         Non-Null Count  Dtype \n",
      "---  ------         --------------  ----- \n",
      " 0   ShoeName       20 non-null     object\n",
      " 1   ActualPrice    20 non-null     int32 \n",
      " 2   DiscountPrice  20 non-null     int32 \n",
      " 3   SoldBy         20 non-null     object\n",
      "dtypes: int32(2), object(2)\n",
      "memory usage: 608.0+ bytes\n"
     ]
    }
   ],
   "source": [
    "SHOEDATA.info()"
   ]
  },
  {
   "cell_type": "markdown",
   "metadata": {},
   "source": [
    "## From the Shoedata below, it shows that there are 7 shoes without ActualPrice"
   ]
  },
  {
   "cell_type": "code",
   "execution_count": 30,
   "metadata": {},
   "outputs": [
    {
     "data": {
      "text/plain": [
       "0        7\n",
       "10000    2\n",
       "8000     2\n",
       "16000    1\n",
       "7000     1\n",
       "25000    1\n",
       "6000     1\n",
       "45000    1\n",
       "3000     1\n",
       "20000    1\n",
       "9500     1\n",
       "19000    1\n",
       "Name: ActualPrice, dtype: int64"
      ]
     },
     "execution_count": 30,
     "metadata": {},
     "output_type": "execute_result"
    }
   ],
   "source": [
    "SHOEDATA['ActualPrice'].value_counts()"
   ]
  },
  {
   "cell_type": "markdown",
   "metadata": {},
   "source": [
    "## From the ShoeData below, It shows that the shoe pairs with the highest discount Price"
   ]
  },
  {
   "cell_type": "code",
   "execution_count": 31,
   "metadata": {},
   "outputs": [
    {
     "data": {
      "text/plain": [
       "5000     2\n",
       "7500     2\n",
       "8000     1\n",
       "8499     1\n",
       "1500     1\n",
       "5500     1\n",
       "22490    1\n",
       "7000     1\n",
       "8700     1\n",
       "12500    1\n",
       "35000    1\n",
       "5699     1\n",
       "5120     1\n",
       "3700     1\n",
       "8800     1\n",
       "6500     1\n",
       "16000    1\n",
       "4000     1\n",
       "Name: DiscountPrice, dtype: int64"
      ]
     },
     "execution_count": 31,
     "metadata": {},
     "output_type": "execute_result"
    }
   ],
   "source": [
    "SHOEDATA['DiscountPrice'].value_counts()"
   ]
  },
  {
   "cell_type": "markdown",
   "metadata": {},
   "source": [
    "## Providing the statistics data of the ShoeData "
   ]
  },
  {
   "cell_type": "code",
   "execution_count": 32,
   "metadata": {},
   "outputs": [],
   "source": [
    "SHOEDATA_AGG = SHOEDATA.agg(\n",
    "     {\n",
    "            \"ActualPrice\": [\"min\", \"max\", \"median\", \"skew\"],\n",
    "            \"DiscountPrice\": [\"min\", \"max\", \"median\", \"mean\"],\n",
    "       }\n",
    "   )"
   ]
  },
  {
   "cell_type": "code",
   "execution_count": 33,
   "metadata": {},
   "outputs": [
    {
     "data": {
      "text/html": [
       "<div>\n",
       "<style scoped>\n",
       "    .dataframe tbody tr th:only-of-type {\n",
       "        vertical-align: middle;\n",
       "    }\n",
       "\n",
       "    .dataframe tbody tr th {\n",
       "        vertical-align: top;\n",
       "    }\n",
       "\n",
       "    .dataframe thead th {\n",
       "        text-align: right;\n",
       "    }\n",
       "</style>\n",
       "<table border=\"1\" class=\"dataframe\">\n",
       "  <thead>\n",
       "    <tr style=\"text-align: right;\">\n",
       "      <th></th>\n",
       "      <th>ActualPrice</th>\n",
       "      <th>DiscountPrice</th>\n",
       "    </tr>\n",
       "  </thead>\n",
       "  <tbody>\n",
       "    <tr>\n",
       "      <th>min</th>\n",
       "      <td>0.000000</td>\n",
       "      <td>1500.0</td>\n",
       "    </tr>\n",
       "    <tr>\n",
       "      <th>max</th>\n",
       "      <td>45000.000000</td>\n",
       "      <td>35000.0</td>\n",
       "    </tr>\n",
       "    <tr>\n",
       "      <th>median</th>\n",
       "      <td>7500.000000</td>\n",
       "      <td>7250.0</td>\n",
       "    </tr>\n",
       "    <tr>\n",
       "      <th>skew</th>\n",
       "      <td>1.835929</td>\n",
       "      <td>NaN</td>\n",
       "    </tr>\n",
       "    <tr>\n",
       "      <th>mean</th>\n",
       "      <td>NaN</td>\n",
       "      <td>9200.4</td>\n",
       "    </tr>\n",
       "  </tbody>\n",
       "</table>\n",
       "</div>"
      ],
      "text/plain": [
       "         ActualPrice  DiscountPrice\n",
       "min         0.000000         1500.0\n",
       "max     45000.000000        35000.0\n",
       "median   7500.000000         7250.0\n",
       "skew        1.835929            NaN\n",
       "mean             NaN         9200.4"
      ]
     },
     "execution_count": 33,
     "metadata": {},
     "output_type": "execute_result"
    }
   ],
   "source": [
    "SHOEDATA_AGG"
   ]
  },
  {
   "cell_type": "code",
   "execution_count": 34,
   "metadata": {},
   "outputs": [
    {
     "data": {
      "text/html": [
       "<div>\n",
       "<style scoped>\n",
       "    .dataframe tbody tr th:only-of-type {\n",
       "        vertical-align: middle;\n",
       "    }\n",
       "\n",
       "    .dataframe tbody tr th {\n",
       "        vertical-align: top;\n",
       "    }\n",
       "\n",
       "    .dataframe thead th {\n",
       "        text-align: right;\n",
       "    }\n",
       "</style>\n",
       "<table border=\"1\" class=\"dataframe\">\n",
       "  <thead>\n",
       "    <tr style=\"text-align: right;\">\n",
       "      <th></th>\n",
       "      <th>DiscountPrice</th>\n",
       "      <th>ActualPrice</th>\n",
       "    </tr>\n",
       "  </thead>\n",
       "  <tbody>\n",
       "    <tr>\n",
       "      <th>count</th>\n",
       "      <td>20.000000</td>\n",
       "      <td>20.000000</td>\n",
       "    </tr>\n",
       "    <tr>\n",
       "      <th>mean</th>\n",
       "      <td>9200.400000</td>\n",
       "      <td>9325.000000</td>\n",
       "    </tr>\n",
       "    <tr>\n",
       "      <th>std</th>\n",
       "      <td>7657.465909</td>\n",
       "      <td>11332.620592</td>\n",
       "    </tr>\n",
       "    <tr>\n",
       "      <th>min</th>\n",
       "      <td>1500.000000</td>\n",
       "      <td>0.000000</td>\n",
       "    </tr>\n",
       "    <tr>\n",
       "      <th>25%</th>\n",
       "      <td>5090.000000</td>\n",
       "      <td>0.000000</td>\n",
       "    </tr>\n",
       "    <tr>\n",
       "      <th>50%</th>\n",
       "      <td>7250.000000</td>\n",
       "      <td>7500.000000</td>\n",
       "    </tr>\n",
       "    <tr>\n",
       "      <th>75%</th>\n",
       "      <td>8725.000000</td>\n",
       "      <td>11500.000000</td>\n",
       "    </tr>\n",
       "    <tr>\n",
       "      <th>max</th>\n",
       "      <td>35000.000000</td>\n",
       "      <td>45000.000000</td>\n",
       "    </tr>\n",
       "  </tbody>\n",
       "</table>\n",
       "</div>"
      ],
      "text/plain": [
       "       DiscountPrice   ActualPrice\n",
       "count      20.000000     20.000000\n",
       "mean     9200.400000   9325.000000\n",
       "std      7657.465909  11332.620592\n",
       "min      1500.000000      0.000000\n",
       "25%      5090.000000      0.000000\n",
       "50%      7250.000000   7500.000000\n",
       "75%      8725.000000  11500.000000\n",
       "max     35000.000000  45000.000000"
      ]
     },
     "execution_count": 34,
     "metadata": {},
     "output_type": "execute_result"
    }
   ],
   "source": [
    "SHOEDATA[[\"DiscountPrice\", \"ActualPrice\"]].describe()"
   ]
  },
  {
   "cell_type": "markdown",
   "metadata": {},
   "source": [
    "## Data Virtualization of the DataFrame\n",
    "  using Pandas built-in virtualization tools, matplotlib, seaborn virtuals"
   ]
  },
  {
   "cell_type": "code",
   "execution_count": 41,
   "metadata": {},
   "outputs": [],
   "source": [
    "import matplotlib.pyplot as plt\n",
    "\n",
    "%matplotlib inline"
   ]
  },
  {
   "cell_type": "code",
   "execution_count": 42,
   "metadata": {},
   "outputs": [],
   "source": [
    "import seaborn as sns"
   ]
  },
  {
   "cell_type": "markdown",
   "metadata": {},
   "source": [
    "## Representing the DataFrame Description in a Histogram"
   ]
  },
  {
   "cell_type": "code",
   "execution_count": 43,
   "metadata": {},
   "outputs": [
    {
     "data": {
      "text/plain": [
       "array([[<AxesSubplot:title={'center':'DiscountPrice'}>,\n",
       "        <AxesSubplot:title={'center':'ActualPrice'}>]], dtype=object)"
      ]
     },
     "execution_count": 43,
     "metadata": {},
     "output_type": "execute_result"
    },
    {
     "data": {
      "image/png": "[encoded data removed]",
      "text/plain": [
       "<Figure size 432x288 with 2 Axes>"
      ]
     },
     "metadata": {
      "needs_background": "light"
     },
     "output_type": "display_data"
    }
   ],
   "source": [
    "SHOEDATA[[\"DiscountPrice\", \"ActualPrice\"]].describe().hist()"
   ]
  },
  {
   "cell_type": "markdown",
   "metadata": {},
   "source": [
    "## Representing the DataFrame Aggregate Values in a Histogram"
   ]
  },
  {
   "cell_type": "code",
   "execution_count": 44,
   "metadata": {},
   "outputs": [
    {
     "data": {
      "text/plain": [
       "array([[<AxesSubplot:title={'center':'ActualPrice'}>,\n",
       "        <AxesSubplot:title={'center':'DiscountPrice'}>]], dtype=object)"
      ]
     },
     "execution_count": 44,
     "metadata": {},
     "output_type": "execute_result"
    },
    {
     "data": {
      "image/png": "[encoded data removed]",
      "text/plain": [
       "<Figure size 432x288 with 2 Axes>"
      ]
     },
     "metadata": {
      "needs_background": "light"
     },
     "output_type": "display_data"
    }
   ],
   "source": [
    "SHOEDATA_AGG.hist()"
   ]
  },
  {
   "cell_type": "markdown",
   "metadata": {},
   "source": [
    "## Representing the DiscountPrice in a Histogram"
   ]
  },
  {
   "cell_type": "code",
   "execution_count": 45,
   "metadata": {},
   "outputs": [
    {
     "data": {
      "text/plain": [
       "<AxesSubplot:>"
      ]
     },
     "execution_count": 45,
     "metadata": {},
     "output_type": "execute_result"
    },
    {
     "data": {
      "image/png": "[encoded data removed]",
      "text/plain": [
       "<Figure size 432x288 with 1 Axes>"
      ]
     },
     "metadata": {
      "needs_background": "light"
     },
     "output_type": "display_data"
    }
   ],
   "source": [
    "SHOEDATA[\"DiscountPrice\"].hist()"
   ]
  },
  {
   "cell_type": "markdown",
   "metadata": {},
   "source": [
    "## Representing the ActualPrice in a Histogram"
   ]
  },
  {
   "cell_type": "code",
   "execution_count": 46,
   "metadata": {},
   "outputs": [
    {
     "data": {
      "text/plain": [
       "<AxesSubplot:>"
      ]
     },
     "execution_count": 46,
     "metadata": {},
     "output_type": "execute_result"
    },
    {
     "data": {
      "image/png": "[encoded data removed]",
      "text/plain": [
       "<Figure size 432x288 with 1 Axes>"
      ]
     },
     "metadata": {
      "needs_background": "light"
     },
     "output_type": "display_data"
    }
   ],
   "source": [
    "SHOEDATA[\"ActualPrice\"].hist()"
   ]
  },
  {
   "cell_type": "code",
   "execution_count": null,
   "metadata": {},
   "outputs": [],
   "source": [
    "  "
   ]
  },
  {
   "cell_type": "code",
   "execution_count": null,
   "metadata": {},
   "outputs": [],
   "source": []
  }
 ],
 "metadata": {
  "kernelspec": {
   "display_name": "Python 3",
   "language": "python",
   "name": "python3"
  },
  "language_info": {
   "codemirror_mode": {
    "name": "ipython",
    "version": 3
   },
   "file_extension": ".py",
   "mimetype": "text/x-python",
   "name": "python",
   "nbconvert_exporter": "python",
   "pygments_lexer": "ipython3",
   "version": "3.8.8"
  }
 },
 "nbformat": 4,
 "nbformat_minor": 4
}
