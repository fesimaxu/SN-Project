{
 "cells": [
  {
   "cell_type": "code",
   "execution_count": 1,
   "id": "9a24d8ec",
   "metadata": {},
   "outputs": [],
   "source": [
    "import requests"
   ]
  },
  {
   "cell_type": "code",
   "execution_count": 2,
   "id": "693b72ac",
   "metadata": {},
   "outputs": [],
   "source": [
    "from selenium import webdriver\n",
    "from selenium.webdriver.common.keys import Keys"
   ]
  },
  {
   "cell_type": "code",
   "execution_count": 3,
   "id": "eca02c23",
   "metadata": {},
   "outputs": [],
   "source": [
    "driver = webdriver.Chrome(executable_path='C:\\\\Users\\\\Igwe\\\\Downloads\\\\chromedriver_win32\\\\chromedriver.exe')"
   ]
  },
  {
   "cell_type": "code",
   "execution_count": 4,
   "id": "e87bc924",
   "metadata": {},
   "outputs": [],
   "source": [
    "base_url = 'https://www.konga.com/category/men-s-shoes-1527?page='\n",
    "driver.get(base_url)"
   ]
  },
  {
   "cell_type": "code",
   "execution_count": 5,
   "id": "6c31ce3b",
   "metadata": {},
   "outputs": [],
   "source": [
    "from bs4 import BeautifulSoup as bs "
   ]
  },
  {
   "cell_type": "code",
   "execution_count": 6,
   "id": "268afae0",
   "metadata": {},
   "outputs": [],
   "source": [
    "html = driver.page_source\n",
    "soup = bs(html,'lxml')"
   ]
  },
  {
   "cell_type": "code",
   "execution_count": 7,
   "id": "b2bf666b",
   "metadata": {},
   "outputs": [],
   "source": [
    "fullData = soup.find('section',{'class':'_588b5_3MtNs'})"
   ]
  },
  {
   "cell_type": "code",
   "execution_count": 8,
   "id": "78888d32",
   "metadata": {},
   "outputs": [],
   "source": [
    "detailData = fullData.find_all('li',{'class':'bbe45_3oExY _22339_3gQb9'})"
   ]
  },
  {
   "cell_type": "code",
   "execution_count": 9,
   "id": "cb516bc9",
   "metadata": {},
   "outputs": [],
   "source": [
    "len(detailData)"
   ]
  },
  {
   "cell_type": "code",
   "execution_count": 10,
   "id": "5d060cd2",
   "metadata": {},
   "outputs": [],
   "source": [
    "ShoeData = []\n",
    "for i in range(len(detailData)):\n",
    "    ShoeName = detailData[i].find('h3').text\n",
    "    ActualPrice = detailData[i].find('span',{'class':'f6eb3_1MyTu'})\n",
    "    DiscountPrice = detailData[i].find('span',{'class':'d7c0f_sJAqi'})\n",
    "    SoldBy = detailData[i].find('span',{'class':'_7cc7b_23GsY'}).text\n",
    "    ShoeData.append([ShoeName, ActualPrice, DiscountPrice, SoldBy ])"
   ]
  },
  {
   "cell_type": "code",
   "execution_count": 11,
   "id": "608752b6",
   "metadata": {},
   "outputs": [],
   "source": [
    "ShoeData"
   ]
  },
  {
   "cell_type": "code",
   "execution_count": 12,
   "id": "7fe3580c",
   "metadata": {},
   "outputs": [],
   "source": [
    "import pandas as pd"
   ]
  },
  {
   "cell_type": "code",
   "execution_count": 13,
   "id": "acda50dc",
   "metadata": {},
   "outputs": [],
   "source": [
    "ShoeData_df = pd.DataFrame(columns=['ShoeName','ActualPrice','DiscountPrice','SoldBy'], data = ShoeData)"
   ]
  },
  {
   "cell_type": "code",
   "execution_count": 14,
   "id": "f915006c",
   "metadata": {},
   "outputs": [],
   "source": [
    "ShoeData_df"
   ]
  },
  {
   "cell_type": "code",
   "execution_count": 15,
   "id": "1aae8b43",
   "metadata": {},
   "outputs": [],
   "source": [
    "ShoeData_df.head()"
   ]
  },
  {
   "cell_type": "code",
   "execution_count": 16,
   "id": "f507c5c9",
   "metadata": {},
   "outputs": [],
   "source": [
    "ShoeData_df.tail()"
   ]
  },
  {
   "cell_type": "code",
   "execution_count": 17,
   "id": "0be3cadc",
   "metadata": {},
   "outputs": [],
   "source": [
    "base_url1 = 'https://www.konga.com/category/men-s-shoes-1527?page=2'\n",
    "driver.get(base_url1)"
   ]
  },
  {
   "cell_type": "code",
   "execution_count": 18,
   "id": "dd5c2e33",
   "metadata": {},
   "outputs": [],
   "source": [
    "html1 = driver.page_source\n",
    "soup = bs(html1,'lxml')"
   ]
  },
  {
   "cell_type": "code",
   "execution_count": 19,
   "id": "d0a6df2b",
   "metadata": {},
   "outputs": [],
   "source": [
    "fullData1= soup.find('section',{'class':'_588b5_3MtNs'})"
   ]
  },
  {
   "cell_type": "code",
   "execution_count": 20,
   "id": "110abb1e",
   "metadata": {},
   "outputs": [],
   "source": [
    "detailData1 = fullData1.find_all('li',{'class':'bbe45_3oExY _22339_3gQb9'})"
   ]
  },
  {
   "cell_type": "code",
   "execution_count": 21,
   "id": "30da5901",
   "metadata": {},
   "outputs": [],
   "source": [
    "detailData1 = fullData1.find_all('li',{'class':'bbe45_3oExY _22339_3gQb9'})"
   ]
  },
  {
   "cell_type": "code",
   "execution_count": 22,
   "id": "3047ef0a",
   "metadata": {},
   "outputs": [],
   "source": [
    "detailData1 = fullData1.find('li',{'class':'bbe45_3oExY _22339_3gQb9'})"
   ]
  },
  {
   "cell_type": "code",
   "execution_count": 23,
   "id": "2bdd00aa",
   "metadata": {},
   "outputs": [],
   "source": [
    "html1 = driver.page_source\n",
    "soup1 = bs(html1,'lxml')"
   ]
  },
  {
   "cell_type": "code",
   "execution_count": 24,
   "id": "831de1d9",
   "metadata": {},
   "outputs": [],
   "source": [
    "fullData1= soup1.find('section',{'class':'_588b5_3MtNs'})"
   ]
  },
  {
   "cell_type": "code",
   "execution_count": 25,
   "id": "64bcbee4",
   "metadata": {},
   "outputs": [],
   "source": [
    "detailData1 = fullData1.find('li',{'class':'bbe45_3oExY _22339_3gQb9'})"
   ]
  },
  {
   "cell_type": "code",
   "execution_count": 26,
   "id": "995a25c3",
   "metadata": {},
   "outputs": [],
   "source": [
    "len(detailData1)"
   ]
  },
  {
   "cell_type": "code",
   "execution_count": 27,
   "id": "e1e3cc6b",
   "metadata": {},
   "outputs": [],
   "source": [
    "detailData1 = fullData1.find_all('li',{'class':'bbe45_3oExY _22339_3gQb9'})"
   ]
  },
  {
   "cell_type": "code",
   "execution_count": 28,
   "id": "fd30236a",
   "metadata": {},
   "outputs": [],
   "source": [
    "len(detailData1)"
   ]
  },
  {
   "cell_type": "code",
   "execution_count": 29,
   "id": "af2188a9",
   "metadata": {},
   "outputs": [],
   "source": [
    "ShoeData1 = []\n",
    "for i in range(len(detailData1)):\n",
    "    ShoeName = detailData1[i].find('h3').text\n",
    "    ActualPrice = detailData1[i].find('span',{'class':'f6eb3_1MyTu'})\n",
    "    DiscountPrice = detailData1[i].find('span',{'class':'d7c0f_sJAqi'})\n",
    "    SoldBy = detailData1[i].find('span',{'class':'_7cc7b_23GsY'}).text\n",
    "    ShoeData1.append([ShoeName, ActualPrice, DiscountPrice, SoldBy ])"
   ]
  },
  {
   "cell_type": "code",
   "execution_count": 30,
   "id": "73878064",
   "metadata": {},
   "outputs": [],
   "source": [
    "ShoeData1"
   ]
  },
  {
   "cell_type": "code",
   "execution_count": 31,
   "id": "6bdf8f85",
   "metadata": {},
   "outputs": [],
   "source": [
    "ShoeData_df1 = pd.DataFrame(columns=['ShoeName','ActualPrice','DiscountPrice','SoldBy'], data = ShoeData1)"
   ]
  },
  {
   "cell_type": "code",
   "execution_count": 32,
   "id": "dfec4aa8",
   "metadata": {},
   "outputs": [],
   "source": [
    "ShoeData_df1"
   ]
  },
  {
   "cell_type": "code",
   "execution_count": 33,
   "id": "d0bf8e1f",
   "metadata": {},
   "outputs": [],
   "source": [
    "ShoeData_df1.head()"
   ]
  },
  {
   "cell_type": "code",
   "execution_count": 34,
   "id": "8f852b57",
   "metadata": {},
   "outputs": [],
   "source": [
    "ShoeData_df1.tail()"
   ]
  },
  {
   "cell_type": "code",
   "execution_count": 35,
   "id": "9f02fe03",
   "metadata": {},
   "outputs": [],
   "source": [
    "SHOEDATA = pd.read_csv(\"SHOEDATA OF PAGE1.csv\")"
   ]
  },
  {
   "cell_type": "code",
   "execution_count": 36,
   "id": "43c8b8a9",
   "metadata": {},
   "outputs": [],
   "source": [
    "SHOEDATA1 = pd.read_csv(\"SHOEDATA OF PAGE2.csv\")"
   ]
  },
  {
   "cell_type": "code",
   "execution_count": 37,
   "id": "3bca4554",
   "metadata": {},
   "outputs": [],
   "source": [
    "!jupyter nbconvert --to html Webscrapping_Project_of_Konga_store_for_Mens_Footwears.ipynb"
   ]
  },
  {
   "cell_type": "code",
   "execution_count": 38,
   "id": "db27249d",
   "metadata": {},
   "outputs": [],
   "source": [
    "--help-all"
   ]
  },
  {
   "cell_type": "code",
   "execution_count": 39,
   "id": "43cab5b5",
   "metadata": {},
   "outputs": [],
   "source": [
    "use `--help-all"
   ]
  },
  {
   "cell_type": "code",
   "execution_count": 40,
   "id": "1b67711c",
   "metadata": {},
   "outputs": [],
   "source": [
    "jupyter nbconver`--help-all"
   ]
  },
  {
   "cell_type": "code",
   "execution_count": 41,
   "id": "1e3bf279",
   "metadata": {},
   "outputs": [],
   "source": [
    "!jupyter nbconvert --to html mynotebook.ipynb"
   ]
  },
  {
   "cell_type": "code",
   "execution_count": 42,
   "id": "cc4d763e",
   "metadata": {},
   "outputs": [],
   "source": [
    "!jupyter nbconvert --to html MyWebscrappingProject.ipynb"
   ]
  },
  {
   "cell_type": "code",
   "execution_count": 43,
   "id": "41b9222d",
   "metadata": {},
   "outputs": [],
   "source": [
    " %notebook \"directory/to/file/MyWebscrappingProject.ipynb\"   "
   ]
  },
  {
   "cell_type": "code",
   "execution_count": 44,
   "id": "39a8985a",
   "metadata": {},
   "outputs": [],
   "source": [
    " %notebook \"document/to/PythonProject/MyWebscrappingProject.ipynb\"   "
   ]
  }
 ],
 "metadata": {},
 "nbformat": 4,
 "nbformat_minor": 5
}
